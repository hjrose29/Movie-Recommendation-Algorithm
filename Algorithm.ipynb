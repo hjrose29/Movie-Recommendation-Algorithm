{
 "cells": [
  {
   "cell_type": "markdown",
   "id": "409dae0c",
   "metadata": {},
   "source": []
  },
  {
   "cell_type": "markdown",
   "id": "272a0056",
   "metadata": {},
   "source": [
    "\n",
    "\n",
    "    Limitations of Algoritm:\n",
    "            •   Database limited to c. 5000 items\n",
    "            •   Limited and sometimes vague metadata\n",
    "            •   Some metadata is not appropriate for the movie,\n",
    "                ⁃ i.e. Movie has the keyword monster when it is unrelated.\n",
    "                ⁃ Can provide occasional incorrect results"
   ]
  },
  {
   "cell_type": "code",
   "execution_count": 4,
   "id": "443b50d5",
   "metadata": {},
   "outputs": [],
   "source": [
    "#Imports required libraries.\n",
    "import pandas as pd\n",
    "import matplotlib.pyplot as plt\n",
    "import re\n"
   ]
  },
  {
   "cell_type": "code",
   "execution_count": 5,
   "id": "0e349858",
   "metadata": {},
   "outputs": [
    {
     "name": "stdout",
     "output_type": "stream",
     "text": [
      "budget                  int64\n",
      "genres                 object\n",
      "keywords               object\n",
      "original language      object\n",
      "popularity            float64\n",
      "production company     object\n",
      "revenue                 int64\n",
      "runtime               float64\n",
      "title                  object\n",
      "vote average          float64\n",
      "dtype: object\n",
      "(4803, 10)\n"
     ]
    }
   ],
   "source": [
    "data = pd.read_csv('5000Movies.csv')\n",
    "data = data[['budget', 'genres', 'keywords','original language', 'popularity', \n",
    "             'production company', 'revenue', 'runtime', 'title', 'vote average']]\n",
    "\n",
    "#Familiarize ourselves with the dataset from kaggle.com\n",
    "print(data.dtypes)\n",
    "print(data.shape)"
   ]
  },
  {
   "cell_type": "code",
   "execution_count": 6,
   "id": "ed854322",
   "metadata": {},
   "outputs": [
    {
     "data": {
      "image/png": "[encoded data removed]",
      "text/plain": [
       "<Figure size 432x288 with 1 Axes>"
      ]
     },
     "metadata": {
      "needs_background": "light"
     },
     "output_type": "display_data"
    }
   ],
   "source": [
    "#Plot before normalizing, notice the challenging scale.\n",
    "plt.plot(data['popularity'])\n",
    "plt.ylabel('popularity')\n",
    "plt.show()"
   ]
  },
  {
   "cell_type": "markdown",
   "id": "38d6087d",
   "metadata": {},
   "source": [
    "Normalize function to take a pandas series of numbers and normalize it on a scale of 0 to 1, \n",
    "where 1 is the maximum of the series -- This function will allow us to easily factor in these numerical columns in\n",
    "determining which movie to suggest."
   ]
  },
  {
   "cell_type": "code",
   "execution_count": 7,
   "id": "8e0e19b1",
   "metadata": {},
   "outputs": [],
   "source": [
    "\n",
    "def Normalize(df, column):\n",
    "    df_max_scaled = df.copy()\n",
    "    maxedColumn = column\n",
    "    df_max_scaled[maxedColumn] = df_max_scaled[maxedColumn] / df_max_scaled[maxedColumn].max()\n",
    "    return df_max_scaled[maxedColumn]"
   ]
  },
  {
   "cell_type": "code",
   "execution_count": 8,
   "id": "fcfeca45",
   "metadata": {},
   "outputs": [],
   "source": [
    "#Calls Normalize function on each of these three critical numerical columns\n",
    "toNormalize = ['budget', 'popularity', 'revenue']\n",
    "for i in toNormalize:\n",
    "    data[i] = Normalize(data, i)\n"
   ]
  },
  {
   "cell_type": "code",
   "execution_count": 9,
   "id": "43da540d",
   "metadata": {},
   "outputs": [
    {
     "data": {
      "image/png": "[encoded data removed]",
      "text/plain": [
       "<Figure size 432x288 with 1 Axes>"
      ]
     },
     "metadata": {
      "needs_background": "light"
     },
     "output_type": "display_data"
    }
   ],
   "source": [
    "#Plot after normalizing\n",
    "plt.plot(data['popularity'])\n",
    "plt.ylabel('popularity')\n",
    "plt.show()"
   ]
  },
  {
   "cell_type": "code",
   "execution_count": 10,
   "id": "c58af0e4",
   "metadata": {},
   "outputs": [],
   "source": [
    "#twoArray function -- populates and returns a two dimensional array, finalArray, with attributes for each movie.\n",
    "#Keeps indexes consistent with the original indexing of the database for ease of reference later.\n",
    "def twoArray(df, column):\n",
    "    count = 0\n",
    "    array = df[column]\n",
    "    finalArray = []\n",
    "    for i in array:\n",
    "        count += 1\n",
    "        if (type(i) == str):\n",
    "            finalArray.append(re.split(\",\", i))\n",
    "        else:\n",
    "            finalArray.append([])\n",
    "    return finalArray\n",
    "\n",
    "\n",
    "#Utilizes twoArray func on 'genres', 'keywords', and 'production company' \n",
    "#Creates two series, one for title and one for popularity(already normalized), for ease of access later in the algo.\n",
    "titleArr = data['title']\n",
    "genresArr = twoArray(data, 'genres')\n",
    "keywordsArr = twoArray(data, 'keywords')\n",
    "prodArr = twoArray(data, 'production company')\n",
    "popularityArr = data['popularity']"
   ]
  },
  {
   "cell_type": "code",
   "execution_count": 11,
   "id": "a96a2fee",
   "metadata": {},
   "outputs": [
    {
     "name": "stdout",
     "output_type": "stream",
     "text": [
      "What is your favorite movie?Guardians of the Galaxy\n"
     ]
    }
   ],
   "source": [
    "selectedMovie = input(\"What is your favorite movie?\")\n",
    "\n",
    "#Finds index of user selected movie\n",
    "w = 0\n",
    "for i in titleArr:\n",
    "    if i == selectedMovie:\n",
    "        selectedMovieIndex = w\n",
    "    w += 1\n",
    "\n",
    "recommendedMovie = \"\""
   ]
  },
  {
   "cell_type": "code",
   "execution_count": 12,
   "id": "18d76ad6",
   "metadata": {},
   "outputs": [],
   "source": [
    "#Rates every movie in dataset in relation to user selected movie\n",
    "#Does so on the basis of categorical metadata provided by dataset\n",
    "#Calculates and returns a ratio of what each of the above metadata has in common with the user selected movie.\n",
    "\n",
    "\n",
    "def ratingEachMovie(array):\n",
    "    index = 0\n",
    "    returnArr = []\n",
    "    for list in array:\n",
    "        count = 0\n",
    "        common = 0\n",
    "        for item in list:\n",
    "            for selectedItem in array[selectedMovieIndex]:\n",
    "                if (item == selectedItem) & (item != \"\"):\n",
    "                    common += 1\n",
    "            if(item != \"\"):\n",
    "                count += 1\n",
    "        if(count != 0):\n",
    "            returnArr.append(common / count)\n",
    "        else:\n",
    "            returnArr.append(0)\n",
    "    return returnArr\n",
    "\n",
    "\n",
    "#Creates and \"Caches\" a data frame using the ratingEachMovie function on three categorical columns of metadata.\n",
    "cachedDFs = pd.DataFrame({'cachedGenres': ratingEachMovie(genresArr),\n",
    "                    'cachedKeywords': ratingEachMovie(keywordsArr),\n",
    "                  'cachedProd': ratingEachMovie(prodArr)})\n",
    "\n",
    "cachedDFs.to_csv('cache.csv', index=False)\n",
    "\n",
    "#Immediately reads from the temporary \"cache\". \n",
    "#Time save for the calculations to come\n",
    "#The other option is calling 'ratingEachMovie' threetimes per calculation over 5000 rows of data.\n",
    "cache = pd.read_csv('cache.csv')"
   ]
  },
  {
   "cell_type": "code",
   "execution_count": 13,
   "id": "3394bda2",
   "metadata": {},
   "outputs": [],
   "source": [
    "#Creates and Populates an array to hold each of the final scores(0-1, 1 being most similar)\n",
    "#Formula weights Genres and Production Company as half important as keywords.\n",
    "#This choice was made to put an emphasis on keywords as they are more unique, \n",
    "#whereas similar genres are shared by sometimes unrelated movies.\n",
    "#Furthermore, if production companies hold much weight, \n",
    "#all recommended movies will be by the same production company as the selected movie which I decided I did not want.\n",
    "#Also, I divided popularity by 2 because I wanted to factor in popularity, however, \n",
    "#I did not want it to be a leading factor.\n",
    "#The way in which I created a formula in just one line allows me to easily modify this algoritm as needed\n",
    "#through trial and error.\n",
    "\n",
    "#Alternative solution would have been to implement a 'term frequency-inverse document frequency' method\n",
    "#This would have allowed us to weigh our metadata according to how often it appears.\n",
    "#I chose to not use this method.\n",
    "#In a future experiment I would love to utilize this method and compare results\n",
    "z = 0\n",
    "scoreArr = []\n",
    "for i in titleArr:\n",
    "    scoreArr.append(((((cache['cachedGenres'][z] * .5) + cache['cachedKeywords'][z] + \n",
    "                       cache['cachedProd'][z] * .5) + (popularityArr[z] * .5)) / 2.5))\n",
    "    z += 1"
   ]
  },
  {
   "cell_type": "code",
   "execution_count": 14,
   "id": "2b1329fd",
   "metadata": {},
   "outputs": [
    {
     "name": "stdout",
     "output_type": "stream",
     "text": [
      "                                    Title     Score  \\\n",
      "94                Guardians of the Galaxy  0.909892   \n",
      "182                               Ant-Man  0.656003   \n",
      "79                             Iron Man 2  0.589085   \n",
      "85    Captain America: The Winter Soldier  0.549831   \n",
      "3051                            MacGruber  0.536540   \n",
      "68                               Iron Man  0.527576   \n",
      "31                             Iron Man 3  0.517744   \n",
      "126                  Thor: The Dark World  0.516061   \n",
      "7                 Avengers: Age of Ultron  0.497339   \n",
      "16                           The Avengers  0.492995   \n",
      "\n",
      "                                           cachedGenres  \\\n",
      "94    ['Action', 'Science Fiction', 'Adventure', '',...   \n",
      "182   ['Science Fiction', 'Action', 'Adventure', '',...   \n",
      "79    ['Adventure', 'Action', 'Science Fiction', '',...   \n",
      "85    ['Action', 'Adventure', 'Science Fiction', '',...   \n",
      "3051      ['Action', 'Adventure', 'Comedy', '', '', '']   \n",
      "68    ['Action', 'Science Fiction', 'Adventure', '',...   \n",
      "31    ['Action', 'Adventure', 'Science Fiction', '',...   \n",
      "126      ['Action', 'Adventure', 'Fantasy', '', '', '']   \n",
      "7     ['Action', 'Adventure', 'Science Fiction', '',...   \n",
      "16    ['Science Fiction', 'Action', 'Adventure', '',...   \n",
      "\n",
      "                                         cachedKeywords  \\\n",
      "94    ['marvel comic', 'spaceship', 'space', 'outer ...   \n",
      "182   ['marvel comic', 'superhero', 'based on comic ...   \n",
      "79    ['malibu', 'marvel comic', 'superhero', 'based...   \n",
      "85    ['washington d.c.', 'future', 'shield', 'marve...   \n",
      "3051  ['aftercreditsstinger', 'duringcreditsstinger'...   \n",
      "68    ['middle east', 'arms dealer', 'malibu', 'marv...   \n",
      "31    ['terrorist', 'war on terror', 'tennessee', 'm...   \n",
      "126   ['marvel comic', 'superhero', 'based on comic ...   \n",
      "7     ['marvel comic', 'sequel', 'superhero', 'based...   \n",
      "16    ['new york', 'shield', 'marvel comic', 'superh...   \n",
      "\n",
      "                                             cachedProd  genresScore  \\\n",
      "94    ['Marvel Studios', 'Moving Picture Company (MP...     1.000000   \n",
      "182   ['Marvel Studios', '', '', '', '', '', '', '',...     1.000000   \n",
      "79    ['Marvel Studios', '', '', '', '', '', '', '',...     1.000000   \n",
      "85    ['Marvel Studios', '', '', '', '', '', '', '',...     1.000000   \n",
      "3051  ['Relativity Media', '', '', '', '', '', '', '...     0.666667   \n",
      "68    ['Marvel Studios', '', '', '', '', '', '', '',...     1.000000   \n",
      "31    ['Marvel Studios', '', '', '', '', '', '', '',...     1.000000   \n",
      "126   ['Marvel Studios', '', '', '', '', '', '', '',...     0.666667   \n",
      "7     ['Marvel Studios', 'Prime Focus', 'Revolution ...     1.000000   \n",
      "16    ['Paramount Pictures', 'Marvel Studios', '', '...     1.000000   \n",
      "\n",
      "      keywordsScore  prodScore  popularity  \n",
      "94         1.000000   1.000000    0.549462  \n",
      "182        0.571429   1.000000    0.137159  \n",
      "79         0.428571   1.000000    0.088284  \n",
      "85         0.333333   1.000000    0.082488  \n",
      "3051       1.000000   0.000000    0.016033  \n",
      "68         0.250000   1.000000    0.137880  \n",
      "31         0.250000   1.000000    0.088721  \n",
      "126        0.400000   1.000000    0.113638  \n",
      "7          0.333333   0.666667    0.153360  \n",
      "16         0.400000   0.500000    0.164975  \n"
     ]
    }
   ],
   "source": [
    "#Creates a CSV for my purposes allowing me to ensure the algorithm works as expected,\n",
    "#This CSV will also allow for easy display of the recommended movies to the user.\n",
    "\n",
    "testCSV = pd.DataFrame({'Title': titleArr, 'Score': scoreArr,'cachedGenres': genresArr,\n",
    "                    'cachedKeywords': keywordsArr,\n",
    "                  'cachedProd': prodArr, 'genresScore': ratingEachMovie(genresArr),\n",
    "                    'keywordsScore': ratingEachMovie(keywordsArr),\n",
    "                  'prodScore': ratingEachMovie(prodArr),\n",
    "                        'popularity': popularityArr})\n",
    "testCSV.to_csv('Test.csv', index=False)\n",
    "\n",
    "#ScoreDF is simply the sorted version of testCSV. It is sorted in descending order by the score value\n",
    "#Note: Score Value provided by formula above.\n",
    "scoreDF = pd.read_csv('Test.csv')\n",
    "\n",
    "scoreDF = scoreDF.sort_values(by='Score', ascending=False)\n",
    "\n",
    "#Displays top 10 recommended movies, including the movie selected.\n",
    "print(scoreDF.head(10))"
   ]
  }
 ],
 "metadata": {
  "kernelspec": {
   "display_name": "Python 3 (ipykernel)",
   "language": "python",
   "name": "python3"
  },
  "language_info": {
   "codemirror_mode": {
    "name": "ipython",
    "version": 3
   },
   "file_extension": ".py",
   "mimetype": "text/x-python",
   "name": "python",
   "nbconvert_exporter": "python",
   "pygments_lexer": "ipython3",
   "version": "3.9.7"
  }
 },
 "nbformat": 4,
 "nbformat_minor": 5
}
